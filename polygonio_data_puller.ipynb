{
 "cells": [
  {
   "cell_type": "code",
   "execution_count": 1,
   "id": "5b762cb4",
   "metadata": {},
   "outputs": [],
   "source": [
    "### polygonio_data_puller\n",
    "#Forest Kirschbaum 2022_10_26\n",
    "\n",
    "###most inspirational\n",
    "#Abhishek Gupta\n",
    "#https://greyhoundanalytics.com/blog/scraping-crypto-price-data-from-polygonio/\n",
    "\n",
    "\n",
    "# https://polygon.io/docs/stocks/get_v2_aggs_ticker__stocksticker__range__multiplier___timespan___from___to\n",
    "# https://raw.githubusercontent.com/AdamGetbags/polygonData/main/historicalOptionDataPolygon.py\n",
    "# https://github.com/pssolanki111/polygon\n",
    "# https://polygon.readthedocs.io/en/latest/bulk_data_download_functions.html\n",
    "# https://github.com/AdamGetbags/polygonData/blob/main/historicalOptionDataPolygon.py\n",
    "# https://www.geeksforgeeks.org/python-pandas-series-tz_convert/\n",
    "# https://www.geeksforgeeks.org/python-pandas-series-tz_convert/\n",
    "\n",
    "\n",
    "\n",
    "#     polygon_api_key = \"fake_key_enter_yours_here\" #get your own free from polygon.io\n",
    "polygon_api_key = \"fake_key_enter_yours_here\""
   ]
  },
  {
   "cell_type": "code",
   "execution_count": 2,
   "id": "7cc1042b",
   "metadata": {},
   "outputs": [],
   "source": [
    "\n",
    "import requests\n",
    "import pandas as pd\n",
    "\n",
    "from datetime import date, datetime, timedelta\n",
    "import time\n",
    "import os\n",
    "from polygon import RESTClient\n",
    "import datetime as dt"
   ]
  },
  {
   "cell_type": "code",
   "execution_count": 3,
   "id": "707625d4",
   "metadata": {},
   "outputs": [
    {
     "data": {
      "text/plain": [
       "'\\nstart of user entered variables\\n'"
      ]
     },
     "execution_count": 3,
     "metadata": {},
     "output_type": "execute_result"
    }
   ],
   "source": [
    "\"\"\"\n",
    "start of user entered variables\n",
    "\"\"\"\n"
   ]
  },
  {
   "cell_type": "code",
   "execution_count": 4,
   "id": "1c953b37",
   "metadata": {},
   "outputs": [],
   "source": [
    "##asset_type = \"stock\" or \"crypto\"      ##stock like: AAPL, TSLA # crypto like: BTCUSD, UNIUSD, ETHUSD\n",
    "asset_type = \"stock\"\n",
    "asset = \"AAPL\"\n"
   ]
  },
  {
   "cell_type": "code",
   "execution_count": 5,
   "id": "aa4c334c",
   "metadata": {},
   "outputs": [],
   "source": [
    "lookback_months = 25"
   ]
  },
  {
   "cell_type": "code",
   "execution_count": 6,
   "id": "021abc80",
   "metadata": {},
   "outputs": [],
   "source": [
    "# 2022_10_17_jupyter = <<your python project in jupyter notebook or selected editor>>\n",
    "# data/polygon_assets = <<the path starting in dir, then adding onto where you want to store your data csvs.\n",
    "DIR = r'/home/guest144/backtrader-master/'\n",
    "target_dir = os.path.join(DIR, 'datas/polygonio')"
   ]
  },
  {
   "cell_type": "code",
   "execution_count": 7,
   "id": "093bd630",
   "metadata": {},
   "outputs": [
    {
     "data": {
      "text/plain": [
       "'\\nend of user entered variables\\n'"
      ]
     },
     "execution_count": 7,
     "metadata": {},
     "output_type": "execute_result"
    }
   ],
   "source": [
    "\"\"\"\n",
    "end of user entered variables\n",
    "\"\"\""
   ]
  },
  {
   "cell_type": "code",
   "execution_count": 8,
   "id": "00079081",
   "metadata": {},
   "outputs": [],
   "source": [
    "if asset_type in ['stock']:\n",
    "    asset = asset\n",
    "elif asset_type in ['crypto']:\n",
    "    asset = \"X:\" + asset"
   ]
  },
  {
   "cell_type": "code",
   "execution_count": 9,
   "id": "7ffa7c14",
   "metadata": {},
   "outputs": [],
   "source": [
    "def pull_1m_data(asset, start_time, end_time):\n",
    "\n",
    "    polygon_rest_baseurl = \"https://api.polygon.io/v2/\"\n",
    "    multiplier = 1\n",
    "    timespan = \"minute\"\n",
    "    limit = 50000\n",
    "    # newest data at the bottom\n",
    "    sort = \"asc\"\n",
    "        \n",
    "    request_url = f\"{polygon_rest_baseurl}aggs/ticker/{asset}/range/{multiplier}/\" +\\\n",
    "            f\"{timespan}/{start_time}/{end_time}?adjusted=true&sort={sort}&\" + \\\n",
    "            f\"limit={limit}&apiKey={polygon_api_key}\"\n",
    "\n",
    "    data = requests.get(request_url).json()\n",
    "\n",
    "    if \"results\" in data:\n",
    "        return data[\"results\"]\n",
    "    else:\n",
    "        raise Exception(\"error_on_pull_1m_data\")"
   ]
  },
  {
   "cell_type": "code",
   "execution_count": 10,
   "id": "e9d02cf1",
   "metadata": {},
   "outputs": [],
   "source": [
    "bars = []\n",
    "\n",
    "for i in range(lookback_months):\n",
    "    end_time = date.today() - i*timedelta(days = 28)\n",
    "    start_time = date.today() - (i+1)*timedelta(days = 28)\n",
    "    bars += pull_1m_data(asset, start_time, end_time)\n",
    "    time.sleep(15)"
   ]
  },
  {
   "cell_type": "code",
   "execution_count": null,
   "id": "cdde8352",
   "metadata": {},
   "outputs": [],
   "source": []
  },
  {
   "cell_type": "code",
   "execution_count": 20,
   "id": "b7448c8e",
   "metadata": {},
   "outputs": [
    {
     "name": "stdout",
     "output_type": "stream",
     "text": [
      "                             Open    High     Low   Close   Volume\n",
      "time                                                              \n",
      "2020-12-01 03:00:00-06:00  120.84  120.87  119.95  120.64  11000.0\n",
      "2020-12-01 03:01:00-06:00  120.59  120.78  120.59  120.73   1453.0\n",
      "2020-12-01 03:02:00-06:00  120.70  120.79  120.70  120.73   2452.0\n",
      "2020-12-01 03:03:00-06:00  120.75  120.85  120.75  120.85   2389.0\n",
      "2020-12-01 03:04:00-06:00  120.91  120.91  120.88  120.88   1328.0\n",
      "...                           ...     ...     ...     ...      ...\n",
      "2022-10-31 18:53:00-05:00  153.45  153.45  153.45  153.45    570.0\n",
      "2022-10-31 18:55:00-05:00  153.45  153.46  153.43  153.46   1236.0\n",
      "2022-10-31 18:56:00-05:00  153.46  153.46  153.45  153.46    955.0\n",
      "2022-10-31 18:58:00-05:00  153.47  153.47  153.45  153.46   1032.0\n",
      "2022-10-31 18:59:00-05:00  153.46  153.50  153.46  153.46   1691.0\n",
      "\n",
      "[416597 rows x 5 columns]\n"
     ]
    }
   ],
   "source": [
    "df = pd.DataFrame(bars)\n",
    "df[\"date\"] = pd.to_datetime(df[\"t\"], unit = \"ms\")\n",
    "df =  df[[\"date\",\"o\",\"h\",\"l\",\"c\",\"v\"]]\n",
    "df =df.rename(columns = {\n",
    "    \"date\":\"time\",\n",
    "    \"o\": \"Open\",\n",
    "    \"h\": \"High\",\n",
    "    \"l\": \"Low\",\n",
    "    \"c\": \"Close\",\n",
    "    \"v\": \"Volume\"})\n",
    "df['time'] = pd.to_datetime(df['time'])\n",
    "df.set_index('time', inplace=True)\n",
    "#localize time replace US/Central with <<your timezone>>\n",
    "df.index = df.index.tz_localize('UTC')\n",
    "df.index = df.index.tz_convert('US/Central') # df.index = df.index.tz_convert('America/New_York')\n",
    "df = df.sort_values(\"time\")\n",
    "\n",
    "datapath = os.path.join(target_dir, asset + '.csv')\n",
    "df.to_csv(datapath)\n",
    "\n",
    "print(df)"
   ]
  },
  {
   "cell_type": "code",
   "execution_count": null,
   "id": "d43493bd",
   "metadata": {},
   "outputs": [],
   "source": []
  }
 ],
 "metadata": {
  "kernelspec": {
   "display_name": "Python 3 (ipykernel)",
   "language": "python",
   "name": "python3"
  },
  "language_info": {
   "codemirror_mode": {
    "name": "ipython",
    "version": 3
   },
   "file_extension": ".py",
   "mimetype": "text/x-python",
   "name": "python",
   "nbconvert_exporter": "python",
   "pygments_lexer": "ipython3",
   "version": "3.9.12"
  }
 },
 "nbformat": 4,
 "nbformat_minor": 5
}
