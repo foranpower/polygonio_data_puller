{
 "cells": [
  {
   "cell_type": "code",
   "execution_count": 1,
   "id": "5b762cb4",
   "metadata": {},
   "outputs": [],
   "source": [
    "### polygonio_data_puller\n",
    "#Forest Kirschbaum 2022_10_26\n",
    "\n",
    "###most useful\n",
    "#https://greyhoundanalytics.com/blog/scraping-crypto-price-data-from-polygonio/\n",
    "\n",
    "\n",
    "# https://polygon.io/docs/stocks/get_v2_aggs_ticker__stocksticker__range__multiplier___timespan___from___to\n",
    "# https://raw.githubusercontent.com/AdamGetbags/polygonData/main/historicalOptionDataPolygon.py\n",
    "# https://github.com/pssolanki111/polygon\n",
    "# https://polygon.readthedocs.io/en/latest/bulk_data_download_functions.html\n",
    "# https://github.com/AdamGetbags/polygonData/blob/main/historicalOptionDataPolygon.py\n",
    "# https://www.geeksforgeeks.org/python-pandas-series-tz_convert/\n",
    "# https://www.geeksforgeeks.org/python-pandas-series-tz_convert/\n",
    "\n",
    "\n",
    "\n",
    "#     polygon_api_key = \"Pl_Qzj5E0MAlH06aC5UGaFapWpqzKOSB\" #get your own free from polygon.io\n",
    "polygon_api_key = \"Pl_Qzj5E0MAlH06aC5UGaFapWpqzKOSB\""
   ]
  },
  {
   "cell_type": "code",
   "execution_count": 2,
   "id": "7cc1042b",
   "metadata": {},
   "outputs": [],
   "source": [
    "import requests\n",
    "import pandas as pd\n",
    "\n",
    "from datetime import date, datetime, timedelta\n",
    "import time\n",
    "import os\n",
    "from polygon import RESTClient\n",
    "import datetime as dt"
   ]
  },
  {
   "cell_type": "code",
   "execution_count": 38,
   "id": "8755c655",
   "metadata": {},
   "outputs": [],
   "source": [
    "# for stock asset = \"AAPL\"\n",
    "asset = \"SPY\"\n",
    "# for crypto comment out the above line and...\n",
    "# uncomment the two following lines for cryptofor crypto such as:  BTCUSD, UNIUSD, ETHUSD\n",
    "# asset = \"BTCUSD\"\n",
    "#asset = \"X:\" + asset\n"
   ]
  },
  {
   "cell_type": "code",
   "execution_count": null,
   "id": "7f9cfd2b",
   "metadata": {},
   "outputs": [],
   "source": [
    "lookback_months = 25"
   ]
  },
  {
   "cell_type": "code",
   "execution_count": 39,
   "id": "e0ee0d6c",
   "metadata": {},
   "outputs": [],
   "source": [
    "# 2022_10_17_jupyter = <<your python project in jupyter notebook or selected editor>>\n",
    "DIR = r'/home/guest144/2022_10_17_jupyter/'\n",
    "# data/polygon_assets = <<the path starting in dir, then adding onto where you want to store your data csvs.\n",
    "target_dir = os.path.join(DIR, 'data/polygon_assets')"
   ]
  },
  {
   "cell_type": "code",
   "execution_count": 40,
   "id": "b44a509e",
   "metadata": {},
   "outputs": [],
   "source": [
    "def pull_1m_data(asset, start_time, end_time):\n",
    "\n",
    "\n",
    "    polygon_rest_baseurl = \"https://api.polygon.io/v2/\"\n",
    "    multiplier = 1\n",
    "    timespan = \"minute\"\n",
    "    limit = 50000\n",
    "    # newest data at the bottom\n",
    "    sort = \"asc\"\n",
    "        \n",
    "    request_url = f\"{polygon_rest_baseurl}aggs/ticker/{asset}/range/{multiplier}/\" +\\\n",
    "            f\"{timespan}/{start_time}/{end_time}?adjusted=true&sort={sort}&\" + \\\n",
    "            f\"limit={limit}&apiKey={polygon_api_key}\"\n",
    "\n",
    "    data = requests.get(request_url).json()\n",
    "\n",
    "    if \"results\" in data:\n",
    "        return data[\"results\"]\n",
    "    else:\n",
    "        raise Exception(\"error_on_pull_1m_data\")"
   ]
  },
  {
   "cell_type": "code",
   "execution_count": 41,
   "id": "64b6002a",
   "metadata": {},
   "outputs": [],
   "source": [
    "bars = []\n",
    "\n",
    "for i in range(lookback_months):\n",
    "    end_time = date.today() - i*timedelta(days = 28)\n",
    "    start_time = date.today() - (i+1)*timedelta(days = 28)\n",
    "    bars += pull_1m_data(asset, start_time, end_time)\n",
    "    time.sleep(15)"
   ]
  },
  {
   "cell_type": "code",
   "execution_count": 42,
   "id": "e1f1b035",
   "metadata": {},
   "outputs": [
    {
     "name": "stdout",
     "output_type": "stream",
     "text": [
      "                             Open    High       Low     Close  Volume\n",
      "time                                                                 \n",
      "2020-11-25 03:00:00-06:00  363.26  363.27  363.2200  363.2200  5679.0\n",
      "2020-11-25 03:01:00-06:00  363.27  363.27  363.2700  363.2700  1135.0\n",
      "2020-11-25 03:02:00-06:00  363.22  363.22  363.1800  363.1800  2004.0\n",
      "2020-11-25 03:03:00-06:00  363.31  363.36  363.3600  363.3100  2742.0\n",
      "2020-11-25 03:05:00-06:00  363.40  363.40  363.4000  363.4000   259.0\n",
      "...                           ...     ...       ...       ...     ...\n",
      "2022-10-25 18:55:00-05:00  381.32  381.32  381.2401  381.2401  3840.0\n",
      "2022-10-25 18:56:00-05:00  381.25  381.28  381.2500  381.2300  3780.0\n",
      "2022-10-25 18:57:00-05:00  381.25  381.31  381.2999  381.2500  3564.0\n",
      "2022-10-25 18:58:00-05:00  381.28  381.28  381.1900  381.1800  2202.0\n",
      "2022-10-25 18:59:00-05:00  381.19  381.19  381.1500  381.1500  4273.0\n",
      "\n",
      "[420417 rows x 5 columns]\n"
     ]
    }
   ],
   "source": [
    "df = pd.DataFrame(bars)\n",
    "df[\"date\"] = pd.to_datetime(df[\"t\"], unit = \"ms\")\n",
    "df =  df[[\"date\",\"o\",\"h\",\"c\",\"l\",\"v\"]]\n",
    "df.columns = [\"time\",\"Open\",\"High\",\"Low\",\"Close\",\"Volume\"]\n",
    "df['time'] = pd.to_datetime(df['time'])\n",
    "df.set_index('time', inplace=True)\n",
    "#localize time replace US/Central with <<your timezone>>\n",
    "df.index = df.index.tz_localize('UTC')\n",
    "df.index = df.index.tz_convert('US/Central') # df.index = df.index.tz_convert('America/New_York')\n",
    "df = df.sort_values(\"time\")\n",
    "\n",
    "datapath = os.path.join(target_dir, asset + '.csv')\n",
    "df.to_csv(datapath)\n",
    "\n",
    "print(df)"
   ]
  },
  {
   "cell_type": "code",
   "execution_count": null,
   "id": "d114367d",
   "metadata": {},
   "outputs": [],
   "source": []
  }
 ],
 "metadata": {
  "kernelspec": {
   "display_name": "Python 3 (ipykernel)",
   "language": "python",
   "name": "python3"
  },
  "language_info": {
   "codemirror_mode": {
    "name": "ipython",
    "version": 3
   },
   "file_extension": ".py",
   "mimetype": "text/x-python",
   "name": "python",
   "nbconvert_exporter": "python",
   "pygments_lexer": "ipython3",
   "version": "3.9.12"
  }
 },
 "nbformat": 4,
 "nbformat_minor": 5
}
